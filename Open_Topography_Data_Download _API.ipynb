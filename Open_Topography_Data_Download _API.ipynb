{
 "cells": [
  {
   "cell_type": "code",
   "execution_count": null,
   "id": "f1d8a1f3-52e8-4716-94f2-864d1f75a5d5",
   "metadata": {},
   "outputs": [],
   "source": [
    "import pandas as pd\n",
    "import requests\n"
   ]
  },
  {
   "cell_type": "markdown",
   "id": "5627c6ce-b4d8-4690-ab77-e9819d8e0e3e",
   "metadata": {},
   "source": [
    "# 1.Entering the bounds and API Key "
   ]
  },
  {
   "cell_type": "code",
   "execution_count": null,
   "id": "8945226f-4c95-4bab-8fa3-ca8576242eb6",
   "metadata": {},
   "outputs": [],
   "source": [
    "print(\"\\t\\tEnter the Details in Degree Decimals\")\n",
    "North_input=str(input(\"\\nEnter the North Bounds\\n\"))\n",
    "South_input=str(input(\"\\nEnter the South Bounds\\n\"))\n",
    "West_input=str(input(\"\\nEnter the West Bounds\\n\"))\n",
    "East_input=str(input(\"\\nEnter the East Bounds\\n\"))\n",
    "API_Key=str(input(\"\\nEnter the 32 character API KEY\\n\"))\n"
   ]
  },
  {
   "cell_type": "markdown",
   "id": "a8c05419-a6c7-4579-a3e5-1dd724038853",
   "metadata": {},
   "source": [
    "# 2.Selecting products"
   ]
  },
  {
   "cell_type": "code",
   "execution_count": null,
   "id": "38a0bc73-274b-4c0e-b4cb-b6b439b7da1f",
   "metadata": {},
   "outputs": [],
   "source": [
    "DEM_name={\"SRTMGL3 (SRTM GL3 90m)\":\"SRTMGL3\",\"SRTMGL1 (SRTM GL1 30m)\":\"SRTMGL1\",\"SRTMGL1_E (SRTM GL1 Ellipsoidal 30m)\":\"SRTMGL1_E\",\"AW3D30 (ALOS World 3D 30m)\":\"AW3D30\",\"AW3D30_E (ALOS World 3D Ellipsoidal, 30m)\":\"AW3D30_E\",\"SRTM15Plus (Global Bathymetry SRTM15+ V2.1 500m)\":\"SRTM15Plus\",\"NASADEM (NASADEM Global DEM)\":\"NASADEM\",\"COP30 (Copernicus Global DSM 30m)\":\"COP30\",\"COP90 (Copernicus Global DSM 90m)\":\"COP90\",\"EU_DTM (DTM 30m)\":\"EU_DTM\",\"GEDI_L3 (DTM 1000m)\":\"GEDI_L3\",\"GEBCOIceTopo (Global Bathymetry 500m)\":\"GEBCOIceTopo\",\"GEBCOSubIceTopo (Global Bathymetry 500m)\":\"GEBCOSubIceTopo\"}\n",
    "format1={\"GTiff for GeoTiff\":\"GTiff\", \"AAIGrid for Arc ASCII Grid\":\"AAIGrid\", \"HFA for Erdas Imagine (.IMG)\":\"HFA\"}\n",
    "print(\"\\t\\tAvailable Products\")\n",
    "for i in range(1,len(DEM_name.keys())+1):\n",
    "    print(f\"{i}. {list(DEM_name.keys())[i-1]}\")\n",
    "print(\"\\nEnter the Product Number\")\n",
    "index=int(input())\n",
    "if index>13:\n",
    "    print(\"Invalid input (Re Run Code Block)\")\n",
    "print(f\"!!You have Selected {list(DEM_name.keys())[index-1]}\")\n"
   ]
  },
  {
   "cell_type": "markdown",
   "id": "910824e6-e8ba-4d00-ae25-3e4003d36551",
   "metadata": {},
   "source": [
    "# 3.Download Request "
   ]
  },
  {
   "cell_type": "code",
   "execution_count": null,
   "id": "11d5d8a7-6cee-4ae8-a951-a9c5e43a1d6f",
   "metadata": {},
   "outputs": [],
   "source": [
    "url=\"https://portal.opentopography.org/API/globaldem?demtype=\"+DEM_name[list(DEM_name.keys())[index-1]]+\"&south=\"+South_input+\"&north=\"+North_input+\"&west=\"+West_input+\"&east=\"+East_input+\"&outputFormat=\"+format1[\"GTiff for GeoTiff\"]+\"&API_Key=\"+API_Key\n",
    "response=requests.get(url)\n",
    "response_codes={200:\"Valid request\",204:\"No Data\",400:\"Bad Request\",401:\"Unauthorized\",500:\"Internal error\"}\n",
    "print(f\"Response from URL:{response_codes[response.status_code]}\")\n",
    "if response.status_code==200:\n",
    "    print(\"You are Good to go \\nGo to Next code block\")\n",
    "elif response.status_code==204:\n",
    "    print(\"No Data Available change product and rerun  code block\")\n",
    "else :\n",
    "    print(\"Bad request Re run the Notebook or change the inputs in section 1 and 2\")\n",
    "    "
   ]
  },
  {
   "cell_type": "markdown",
   "id": "6bef10c8-bb24-49d8-8212-335c3be91a51",
   "metadata": {},
   "source": [
    "# 4.Downloading data"
   ]
  },
  {
   "cell_type": "code",
   "execution_count": null,
   "id": "49dd7dbb-9e09-47f6-acba-99b7afcd432c",
   "metadata": {},
   "outputs": [],
   "source": [
    "file_name=str(input(\"Enter the path or file name without Extesion\\n\"))\n",
    "try:\n",
    "  f = open(f\"{file_name}.tiff\",'wb')\n",
    "  try:\n",
    "    f.write(response.content)  \n",
    "  except:\n",
    "    print(\"Something went wrong when writing to the file\")\n",
    "  else:\n",
    "      print(\"Success\")\n",
    "  finally:\n",
    "    f.close() \n",
    "except:\n",
    "  print(\"Something went wrong when opening the file\")"
   ]
  },
  {
   "cell_type": "code",
   "execution_count": null,
   "id": "9f79c0a8-e0d2-4ccc-bfa7-a87a048095e9",
   "metadata": {},
   "outputs": [],
   "source": [
    "#ls for checking if file exists in Current working Directory \n",
    "ls"
   ]
  },
  {
   "cell_type": "code",
   "execution_count": null,
   "id": "a9285f4d-6e1c-4656-bbeb-f5ca387be290",
   "metadata": {},
   "outputs": [],
   "source": []
  }
 ],
 "metadata": {
  "kernelspec": {
   "display_name": "Python 3 (ipykernel)",
   "language": "python",
   "name": "python3"
  },
  "language_info": {
   "codemirror_mode": {
    "name": "ipython",
    "version": 3
   },
   "file_extension": ".py",
   "mimetype": "text/x-python",
   "name": "python",
   "nbconvert_exporter": "python",
   "pygments_lexer": "ipython3",
   "version": "3.11.4"
  }
 },
 "nbformat": 4,
 "nbformat_minor": 5
}
